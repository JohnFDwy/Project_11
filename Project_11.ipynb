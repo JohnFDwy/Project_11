{
 "cells": [
  {
   "cell_type": "markdown",
   "metadata": {},
   "source": [
    "# Statement"
   ]
  },
  {
   "cell_type": "markdown",
   "metadata": {},
   "source": [
    "The Sure Tomorrow insurance company wants to solve several tasks with the help of Machine Learning and you are asked to evaluate that possibility.\n",
    "\n",
    "- Task 1: Find customers who are similar to a given customer. This will help the company's agents with marketing.\n",
    "- Task 2: Predict whether a new customer is likely to receive an insurance benefit. Can a prediction model do better than a dummy model?\n",
    "- Task 3: Predict the number of insurance benefits a new customer is likely to receive using a linear regression model.\n",
    "- Task 4: Protect clients' personal data without breaking the model from the previous task. It's necessary to develop a data transformation algorithm that would make it hard to recover personal information if the data fell into the wrong hands. This is called data masking, or data obfuscation. But the data should be protected in such a way that the quality of machine learning models doesn't suffer. You don't need to pick the best model, just prove that the algorithm works correctly."
   ]
  },
  {
   "cell_type": "markdown",
   "metadata": {},
   "source": [
    "# Data Preprocessing & Exploration\n",
    "\n",
    "## Initialization"
   ]
  },
  {
   "cell_type": "code",
   "execution_count": 1,
   "metadata": {},
   "outputs": [],
   "source": [
    "import numpy as np\n",
    "import pandas as pd\n",
    "\n",
    "import seaborn as sns\n",
    "\n",
    "import sklearn.linear_model\n",
    "import sklearn.metrics\n",
    "import sklearn.neighbors\n",
    "import sklearn.preprocessing\n",
    "\n",
    "from sklearn.model_selection import train_test_split\n",
    "\n",
    "from IPython.display import display\n",
    "import math"
   ]
  },
  {
   "cell_type": "markdown",
   "metadata": {},
   "source": [
    "## Load Data"
   ]
  },
  {
   "cell_type": "markdown",
   "metadata": {},
   "source": [
    "Load data and conduct a basic check that it's free from obvious issues."
   ]
  },
  {
   "cell_type": "code",
   "execution_count": 2,
   "metadata": {},
   "outputs": [],
   "source": [
    "df = pd.read_csv('/datasets/insurance_us.csv')"
   ]
  },
  {
   "cell_type": "markdown",
   "metadata": {},
   "source": [
    "We rename the colums to make the code look more consistent with its style."
   ]
  },
  {
   "cell_type": "code",
   "execution_count": 3,
   "metadata": {},
   "outputs": [],
   "source": [
    "df = df.rename(columns={'Gender': 'gender', 'Age': 'age', 'Salary': 'income', 'Family members': 'family_members', 'Insurance benefits': 'insurance_benefits'})"
   ]
  },
  {
   "cell_type": "code",
   "execution_count": 4,
   "metadata": {},
   "outputs": [
    {
     "data": {
      "text/html": [
       "<div>\n",
       "<style scoped>\n",
       "    .dataframe tbody tr th:only-of-type {\n",
       "        vertical-align: middle;\n",
       "    }\n",
       "\n",
       "    .dataframe tbody tr th {\n",
       "        vertical-align: top;\n",
       "    }\n",
       "\n",
       "    .dataframe thead th {\n",
       "        text-align: right;\n",
       "    }\n",
       "</style>\n",
       "<table border=\"1\" class=\"dataframe\">\n",
       "  <thead>\n",
       "    <tr style=\"text-align: right;\">\n",
       "      <th></th>\n",
       "      <th>gender</th>\n",
       "      <th>age</th>\n",
       "      <th>income</th>\n",
       "      <th>family_members</th>\n",
       "      <th>insurance_benefits</th>\n",
       "    </tr>\n",
       "  </thead>\n",
       "  <tbody>\n",
       "    <tr>\n",
       "      <th>4293</th>\n",
       "      <td>0</td>\n",
       "      <td>21.0</td>\n",
       "      <td>34900.0</td>\n",
       "      <td>0</td>\n",
       "      <td>0</td>\n",
       "    </tr>\n",
       "    <tr>\n",
       "      <th>3557</th>\n",
       "      <td>0</td>\n",
       "      <td>22.0</td>\n",
       "      <td>50100.0</td>\n",
       "      <td>4</td>\n",
       "      <td>0</td>\n",
       "    </tr>\n",
       "    <tr>\n",
       "      <th>3039</th>\n",
       "      <td>1</td>\n",
       "      <td>21.0</td>\n",
       "      <td>22600.0</td>\n",
       "      <td>2</td>\n",
       "      <td>0</td>\n",
       "    </tr>\n",
       "    <tr>\n",
       "      <th>1859</th>\n",
       "      <td>0</td>\n",
       "      <td>32.0</td>\n",
       "      <td>34900.0</td>\n",
       "      <td>2</td>\n",
       "      <td>0</td>\n",
       "    </tr>\n",
       "    <tr>\n",
       "      <th>2474</th>\n",
       "      <td>0</td>\n",
       "      <td>21.0</td>\n",
       "      <td>33400.0</td>\n",
       "      <td>3</td>\n",
       "      <td>0</td>\n",
       "    </tr>\n",
       "    <tr>\n",
       "      <th>1604</th>\n",
       "      <td>0</td>\n",
       "      <td>26.0</td>\n",
       "      <td>43400.0</td>\n",
       "      <td>1</td>\n",
       "      <td>0</td>\n",
       "    </tr>\n",
       "    <tr>\n",
       "      <th>813</th>\n",
       "      <td>1</td>\n",
       "      <td>18.0</td>\n",
       "      <td>35600.0</td>\n",
       "      <td>0</td>\n",
       "      <td>0</td>\n",
       "    </tr>\n",
       "    <tr>\n",
       "      <th>3409</th>\n",
       "      <td>1</td>\n",
       "      <td>38.0</td>\n",
       "      <td>31100.0</td>\n",
       "      <td>1</td>\n",
       "      <td>0</td>\n",
       "    </tr>\n",
       "    <tr>\n",
       "      <th>3836</th>\n",
       "      <td>1</td>\n",
       "      <td>39.0</td>\n",
       "      <td>20600.0</td>\n",
       "      <td>1</td>\n",
       "      <td>0</td>\n",
       "    </tr>\n",
       "    <tr>\n",
       "      <th>4804</th>\n",
       "      <td>0</td>\n",
       "      <td>37.0</td>\n",
       "      <td>51600.0</td>\n",
       "      <td>0</td>\n",
       "      <td>0</td>\n",
       "    </tr>\n",
       "  </tbody>\n",
       "</table>\n",
       "</div>"
      ],
      "text/plain": [
       "      gender   age   income  family_members  insurance_benefits\n",
       "4293       0  21.0  34900.0               0                   0\n",
       "3557       0  22.0  50100.0               4                   0\n",
       "3039       1  21.0  22600.0               2                   0\n",
       "1859       0  32.0  34900.0               2                   0\n",
       "2474       0  21.0  33400.0               3                   0\n",
       "1604       0  26.0  43400.0               1                   0\n",
       "813        1  18.0  35600.0               0                   0\n",
       "3409       1  38.0  31100.0               1                   0\n",
       "3836       1  39.0  20600.0               1                   0\n",
       "4804       0  37.0  51600.0               0                   0"
      ]
     },
     "execution_count": 4,
     "metadata": {},
     "output_type": "execute_result"
    }
   ],
   "source": [
    "df.sample(10)"
   ]
  },
  {
   "cell_type": "code",
   "execution_count": 5,
   "metadata": {},
   "outputs": [
    {
     "name": "stdout",
     "output_type": "stream",
     "text": [
      "<class 'pandas.core.frame.DataFrame'>\n",
      "RangeIndex: 5000 entries, 0 to 4999\n",
      "Data columns (total 5 columns):\n",
      " #   Column              Non-Null Count  Dtype  \n",
      "---  ------              --------------  -----  \n",
      " 0   gender              5000 non-null   int64  \n",
      " 1   age                 5000 non-null   float64\n",
      " 2   income              5000 non-null   float64\n",
      " 3   family_members      5000 non-null   int64  \n",
      " 4   insurance_benefits  5000 non-null   int64  \n",
      "dtypes: float64(2), int64(3)\n",
      "memory usage: 195.4 KB\n"
     ]
    }
   ],
   "source": [
    "df.info()"
   ]
  },
  {
   "cell_type": "code",
   "execution_count": 6,
   "metadata": {},
   "outputs": [],
   "source": [
    "# we may want to fix the age type (from float to int) though this is not critical\n",
    "\n",
    "# write your conversion here if you choose:\n",
    "df['age']= df['age'].astype(int)"
   ]
  },
  {
   "cell_type": "code",
   "execution_count": 7,
   "metadata": {},
   "outputs": [
    {
     "name": "stdout",
     "output_type": "stream",
     "text": [
      "<class 'pandas.core.frame.DataFrame'>\n",
      "RangeIndex: 5000 entries, 0 to 4999\n",
      "Data columns (total 5 columns):\n",
      " #   Column              Non-Null Count  Dtype  \n",
      "---  ------              --------------  -----  \n",
      " 0   gender              5000 non-null   int64  \n",
      " 1   age                 5000 non-null   int64  \n",
      " 2   income              5000 non-null   float64\n",
      " 3   family_members      5000 non-null   int64  \n",
      " 4   insurance_benefits  5000 non-null   int64  \n",
      "dtypes: float64(1), int64(4)\n",
      "memory usage: 195.4 KB\n"
     ]
    }
   ],
   "source": [
    "# check to see that the conversion was successful\n",
    "df.info()"
   ]
  },
  {
   "cell_type": "code",
   "execution_count": 8,
   "metadata": {},
   "outputs": [
    {
     "data": {
      "text/html": [
       "<div>\n",
       "<style scoped>\n",
       "    .dataframe tbody tr th:only-of-type {\n",
       "        vertical-align: middle;\n",
       "    }\n",
       "\n",
       "    .dataframe tbody tr th {\n",
       "        vertical-align: top;\n",
       "    }\n",
       "\n",
       "    .dataframe thead th {\n",
       "        text-align: right;\n",
       "    }\n",
       "</style>\n",
       "<table border=\"1\" class=\"dataframe\">\n",
       "  <thead>\n",
       "    <tr style=\"text-align: right;\">\n",
       "      <th></th>\n",
       "      <th>gender</th>\n",
       "      <th>age</th>\n",
       "      <th>income</th>\n",
       "      <th>family_members</th>\n",
       "      <th>insurance_benefits</th>\n",
       "    </tr>\n",
       "  </thead>\n",
       "  <tbody>\n",
       "    <tr>\n",
       "      <th>count</th>\n",
       "      <td>5000.000000</td>\n",
       "      <td>5000.000000</td>\n",
       "      <td>5000.000000</td>\n",
       "      <td>5000.000000</td>\n",
       "      <td>5000.000000</td>\n",
       "    </tr>\n",
       "    <tr>\n",
       "      <th>mean</th>\n",
       "      <td>0.499000</td>\n",
       "      <td>30.952800</td>\n",
       "      <td>39916.360000</td>\n",
       "      <td>1.194200</td>\n",
       "      <td>0.148000</td>\n",
       "    </tr>\n",
       "    <tr>\n",
       "      <th>std</th>\n",
       "      <td>0.500049</td>\n",
       "      <td>8.440807</td>\n",
       "      <td>9900.083569</td>\n",
       "      <td>1.091387</td>\n",
       "      <td>0.463183</td>\n",
       "    </tr>\n",
       "    <tr>\n",
       "      <th>min</th>\n",
       "      <td>0.000000</td>\n",
       "      <td>18.000000</td>\n",
       "      <td>5300.000000</td>\n",
       "      <td>0.000000</td>\n",
       "      <td>0.000000</td>\n",
       "    </tr>\n",
       "    <tr>\n",
       "      <th>25%</th>\n",
       "      <td>0.000000</td>\n",
       "      <td>24.000000</td>\n",
       "      <td>33300.000000</td>\n",
       "      <td>0.000000</td>\n",
       "      <td>0.000000</td>\n",
       "    </tr>\n",
       "    <tr>\n",
       "      <th>50%</th>\n",
       "      <td>0.000000</td>\n",
       "      <td>30.000000</td>\n",
       "      <td>40200.000000</td>\n",
       "      <td>1.000000</td>\n",
       "      <td>0.000000</td>\n",
       "    </tr>\n",
       "    <tr>\n",
       "      <th>75%</th>\n",
       "      <td>1.000000</td>\n",
       "      <td>37.000000</td>\n",
       "      <td>46600.000000</td>\n",
       "      <td>2.000000</td>\n",
       "      <td>0.000000</td>\n",
       "    </tr>\n",
       "    <tr>\n",
       "      <th>max</th>\n",
       "      <td>1.000000</td>\n",
       "      <td>65.000000</td>\n",
       "      <td>79000.000000</td>\n",
       "      <td>6.000000</td>\n",
       "      <td>5.000000</td>\n",
       "    </tr>\n",
       "  </tbody>\n",
       "</table>\n",
       "</div>"
      ],
      "text/plain": [
       "            gender          age        income  family_members  \\\n",
       "count  5000.000000  5000.000000   5000.000000     5000.000000   \n",
       "mean      0.499000    30.952800  39916.360000        1.194200   \n",
       "std       0.500049     8.440807   9900.083569        1.091387   \n",
       "min       0.000000    18.000000   5300.000000        0.000000   \n",
       "25%       0.000000    24.000000  33300.000000        0.000000   \n",
       "50%       0.000000    30.000000  40200.000000        1.000000   \n",
       "75%       1.000000    37.000000  46600.000000        2.000000   \n",
       "max       1.000000    65.000000  79000.000000        6.000000   \n",
       "\n",
       "       insurance_benefits  \n",
       "count         5000.000000  \n",
       "mean             0.148000  \n",
       "std              0.463183  \n",
       "min              0.000000  \n",
       "25%              0.000000  \n",
       "50%              0.000000  \n",
       "75%              0.000000  \n",
       "max              5.000000  "
      ]
     },
     "execution_count": 8,
     "metadata": {},
     "output_type": "execute_result"
    }
   ],
   "source": [
    "# now have a look at the data's descriptive statistics. \n",
    "# Does everything look okay?\n",
    "df.describe()"
   ]
  },
  {
   "cell_type": "code",
   "execution_count": 9,
   "metadata": {},
   "outputs": [
    {
     "data": {
      "text/plain": [
       "153"
      ]
     },
     "execution_count": 9,
     "metadata": {},
     "output_type": "execute_result"
    }
   ],
   "source": [
    "df.duplicated().sum()"
   ]
  },
  {
   "cell_type": "markdown",
   "metadata": {},
   "source": [
    "After loading the dataset and looking at the characteristics of the data, it looks like there are no missing values in our columns to be addressed, all the datatypes are in a format we can use for our calculations, and we are ready to use this data to move forward. The only item that is not resolved is row duplicates and we will not be able to determine whether these 153 apparent duplicates are genuine duplicates due to the data characteristics as it is possible many people with the same characteristics may be present in this dataset."
   ]
  },
  {
   "cell_type": "markdown",
   "metadata": {},
   "source": [
    "## EDA"
   ]
  },
  {
   "cell_type": "markdown",
   "metadata": {},
   "source": [
    "Let's quickly check whether there are certain groups of customers by looking at the pair plot."
   ]
  },
  {
   "cell_type": "code",
   "execution_count": 10,
   "metadata": {},
   "outputs": [
    {
     "data": {
      "image/png": "[encoded data removed]",
      "text/plain": [
       "<Figure size 1200x1200 with 30 Axes>"
      ]
     },
     "metadata": {},
     "output_type": "display_data"
    }
   ],
   "source": [
    "g = sns.pairplot(df, kind='hist')\n",
    "g.fig.set_size_inches(12, 12)"
   ]
  },
  {
   "cell_type": "markdown",
   "metadata": {},
   "source": [
    "Ok, it is a bit difficult to spot obvious groups (clusters) as it is difficult to combine several variables simultaneously (to analyze multivariate distributions). That's where LA and ML can be quite handy."
   ]
  },
  {
   "cell_type": "markdown",
   "metadata": {},
   "source": [
    "# Task 1. Similar Customers"
   ]
  },
  {
   "cell_type": "markdown",
   "metadata": {},
   "source": [
    "In the language of ML, it is necessary to develop a procedure that returns k nearest neighbors (objects) for a given object based on the distance between the objects.\n",
    "\n",
    "You may want to review the following lessons (chapter -> lesson)\n",
    "- Distance Between Vectors -> Euclidean Distance\n",
    "- Distance Between Vectors -> Manhattan Distance\n",
    "\n",
    "To solve the task, we can try different distance metrics."
   ]
  },
  {
   "cell_type": "markdown",
   "metadata": {},
   "source": [
    "Write a function that returns k nearest neighbors for an $n^{th}$ object based on a specified distance metric. The number of received insurance benefits should not be taken into account for this task. \n",
    "\n",
    "You can use a ready implementation of the kNN algorithm from scikit-learn (check [the link](https://scikit-learn.org/stable/modules/generated/sklearn.neighbors.NearestNeighbors.html#sklearn.neighbors.NearestNeighbors)) or use your own.\n",
    "\n",
    "Test it for four combination of two cases\n",
    "- Scaling\n",
    "  - the data is not scaled\n",
    "  - the data is scaled with the [MaxAbsScaler](https://scikit-learn.org/stable/modules/generated/sklearn.preprocessing.MaxAbsScaler.html) scaler\n",
    "- Distance Metrics\n",
    "  - Euclidean\n",
    "  - Manhattan\n",
    "\n",
    "Answer these questions:\n",
    "- Does the data being not scaled affect the kNN algorithm? If so, how does that appear?\n",
    "- How similar are the results using the Manhattan distance metric (regardless of the scaling)?"
   ]
  },
  {
   "cell_type": "code",
   "execution_count": 11,
   "metadata": {},
   "outputs": [],
   "source": [
    "feature_names = ['gender', 'age', 'income', 'family_members']"
   ]
  },
  {
   "cell_type": "code",
   "execution_count": 12,
   "metadata": {},
   "outputs": [],
   "source": [
    "from sklearn.neighbors import NearestNeighbors\n",
    "from sklearn.preprocessing import MaxAbsScaler\n",
    "import pandas as pd\n",
    "\n",
    "def get_knn(df, n, k, metric, scale=False):\n",
    "    \"\"\"\n",
    "    Returns k nearest neighbors for the nth object based on a specified distance metric.\n",
    "\n",
    "    :param df: pandas DataFrame with all features except the target variable\n",
    "    :param n: index for which the nearest neighbors are looked for\n",
    "    :param k: the number of nearest neighbors to return\n",
    "    :param metric: name of distance metric ('euclidean' or 'manhattan')\n",
    "    :param scale: boolean, whether to scale the data using MaxAbsScaler\n",
    "    \"\"\"\n",
    "    # Scale the data if needed\n",
    "    if scale:\n",
    "        scaler = MaxAbsScaler()\n",
    "        df_scaled = scaler.fit_transform(df)\n",
    "        df = pd.DataFrame(df_scaled, columns=df.columns)\n",
    "    \n",
    "    # Create instance of NearestNeighbors\n",
    "    nbrs = NearestNeighbors(n_neighbors=k, metric=metric).fit(df)\n",
    "    \n",
    "    # Finding the distances and indices of the k-nearest neighbors\n",
    "    nbrs_distances, nbrs_indices = nbrs.kneighbors([df.iloc[n]], return_distance=True)\n",
    "    \n",
    "    df_res = pd.concat([\n",
    "        df.iloc[nbrs_indices[0]],\n",
    "        pd.DataFrame(nbrs_distances.T, index=nbrs_indices[0], columns=['distance'])\n",
    "    ], axis=1)\n",
    "    \n",
    "    return df_res"
   ]
  },
  {
   "cell_type": "markdown",
   "metadata": {},
   "source": [
    "Scaling the data."
   ]
  },
  {
   "cell_type": "code",
   "execution_count": 13,
   "metadata": {},
   "outputs": [],
   "source": [
    "feature_names = ['gender', 'age', 'income', 'family_members']\n",
    "\n",
    "transformer_mas = sklearn.preprocessing.MaxAbsScaler().fit(df[feature_names].to_numpy())\n",
    "\n",
    "df_scaled = df.copy()\n",
    "df_scaled.loc[:, feature_names] = transformer_mas.transform(df[feature_names].to_numpy())"
   ]
  },
  {
   "cell_type": "code",
   "execution_count": 14,
   "metadata": {},
   "outputs": [
    {
     "data": {
      "text/html": [
       "<div>\n",
       "<style scoped>\n",
       "    .dataframe tbody tr th:only-of-type {\n",
       "        vertical-align: middle;\n",
       "    }\n",
       "\n",
       "    .dataframe tbody tr th {\n",
       "        vertical-align: top;\n",
       "    }\n",
       "\n",
       "    .dataframe thead th {\n",
       "        text-align: right;\n",
       "    }\n",
       "</style>\n",
       "<table border=\"1\" class=\"dataframe\">\n",
       "  <thead>\n",
       "    <tr style=\"text-align: right;\">\n",
       "      <th></th>\n",
       "      <th>gender</th>\n",
       "      <th>age</th>\n",
       "      <th>income</th>\n",
       "      <th>family_members</th>\n",
       "      <th>insurance_benefits</th>\n",
       "    </tr>\n",
       "  </thead>\n",
       "  <tbody>\n",
       "    <tr>\n",
       "      <th>3625</th>\n",
       "      <td>1.0</td>\n",
       "      <td>0.292308</td>\n",
       "      <td>0.613924</td>\n",
       "      <td>0.333333</td>\n",
       "      <td>0</td>\n",
       "    </tr>\n",
       "    <tr>\n",
       "      <th>3718</th>\n",
       "      <td>0.0</td>\n",
       "      <td>0.400000</td>\n",
       "      <td>0.717722</td>\n",
       "      <td>0.000000</td>\n",
       "      <td>0</td>\n",
       "    </tr>\n",
       "    <tr>\n",
       "      <th>2765</th>\n",
       "      <td>1.0</td>\n",
       "      <td>0.430769</td>\n",
       "      <td>0.575949</td>\n",
       "      <td>0.000000</td>\n",
       "      <td>0</td>\n",
       "    </tr>\n",
       "    <tr>\n",
       "      <th>4863</th>\n",
       "      <td>0.0</td>\n",
       "      <td>0.600000</td>\n",
       "      <td>0.486076</td>\n",
       "      <td>0.333333</td>\n",
       "      <td>0</td>\n",
       "    </tr>\n",
       "    <tr>\n",
       "      <th>1586</th>\n",
       "      <td>1.0</td>\n",
       "      <td>0.353846</td>\n",
       "      <td>0.236709</td>\n",
       "      <td>0.166667</td>\n",
       "      <td>0</td>\n",
       "    </tr>\n",
       "  </tbody>\n",
       "</table>\n",
       "</div>"
      ],
      "text/plain": [
       "      gender       age    income  family_members  insurance_benefits\n",
       "3625     1.0  0.292308  0.613924        0.333333                   0\n",
       "3718     0.0  0.400000  0.717722        0.000000                   0\n",
       "2765     1.0  0.430769  0.575949        0.000000                   0\n",
       "4863     0.0  0.600000  0.486076        0.333333                   0\n",
       "1586     1.0  0.353846  0.236709        0.166667                   0"
      ]
     },
     "execution_count": 14,
     "metadata": {},
     "output_type": "execute_result"
    }
   ],
   "source": [
    "df_scaled.sample(5)"
   ]
  },
  {
   "cell_type": "markdown",
   "metadata": {},
   "source": [
    "Now, let's get similar records for a given one for every combination"
   ]
  },
  {
   "cell_type": "code",
   "execution_count": 15,
   "metadata": {},
   "outputs": [
    {
     "name": "stdout",
     "output_type": "stream",
     "text": [
      "Results for scale=False and metric=euclidean:\n",
      "      gender  age   income  family_members  distance\n",
      "0          1   41  49600.0               1  0.000000\n",
      "2022       1   41  49600.0               0  1.000000\n",
      "1225       0   42  49600.0               0  1.732051\n",
      "4031       1   44  49600.0               2  3.162278\n",
      "3424       0   38  49600.0               0  3.316625\n",
      "\n",
      "\n",
      "Results for scale=False and metric=manhattan:\n",
      "      gender  age   income  family_members  distance\n",
      "0          1   41  49600.0               1       0.0\n",
      "2022       1   41  49600.0               0       1.0\n",
      "1225       0   42  49600.0               0       3.0\n",
      "4031       1   44  49600.0               2       4.0\n",
      "3424       0   38  49600.0               0       5.0\n",
      "\n",
      "\n",
      "Results for scale=True and metric=euclidean:\n",
      "      gender       age    income  family_members  distance\n",
      "0        1.0  0.630769  0.627848        0.166667  0.000000\n",
      "2689     1.0  0.630769  0.634177        0.166667  0.006329\n",
      "133      1.0  0.615385  0.636709        0.166667  0.017754\n",
      "4869     1.0  0.646154  0.637975        0.166667  0.018418\n",
      "3275     1.0  0.646154  0.651899        0.166667  0.028550\n",
      "\n",
      "\n",
      "Results for scale=True and metric=manhattan:\n",
      "      gender       age    income  family_members  distance\n",
      "0        1.0  0.630769  0.627848        0.166667  0.000000\n",
      "2689     1.0  0.630769  0.634177        0.166667  0.006329\n",
      "133      1.0  0.615385  0.636709        0.166667  0.024245\n",
      "4869     1.0  0.646154  0.637975        0.166667  0.025511\n",
      "3365     1.0  0.630769  0.596203        0.166667  0.031646\n",
      "\n",
      "\n"
     ]
    }
   ],
   "source": [
    "#define features\n",
    "X = df.drop(columns='insurance_benefits')  \n",
    "\n",
    "# Test combinations\n",
    "combinations = [\n",
    "    {'scale': False, 'metric': 'euclidean'},\n",
    "    {'scale': False, 'metric': 'manhattan'},\n",
    "    {'scale': True, 'metric': 'euclidean'},\n",
    "    {'scale': True, 'metric': 'manhattan'},\n",
    "]\n",
    "\n",
    "# Perform tests\n",
    "for combo in combinations:\n",
    "    result = get_knn(X, n=0, k=5, metric=combo['metric'], scale=combo['scale'])\n",
    "    print(f\"Results for scale={combo['scale']} and metric={combo['metric']}:\")\n",
    "    print(result)\n",
    "    print(\"\\n\")"
   ]
  },
  {
   "cell_type": "markdown",
   "metadata": {},
   "source": [
    "Answers to the questions"
   ]
  },
  {
   "cell_type": "markdown",
   "metadata": {},
   "source": [
    "**Does the data being not scaled affect the kNN algorithm? If so, how does that appear?** \n",
    "\n",
    "The data not being scaled seems to impact the kNN algorithm significantly. Distances generated by our algorithm increase signficantly when not scaling the data. This aligns with our expectations as scaling data ensures that the features with larger ranges do not dominate our distance metric."
   ]
  },
  {
   "cell_type": "markdown",
   "metadata": {},
   "source": [
    "**How similar are the results using the Manhattan distance metric (regardless of the scaling)?** \n",
    "\n",
    "Our data in Manhattan distance metrics appears to be significantly different in terms of determining distance."
   ]
  },
  {
   "cell_type": "markdown",
   "metadata": {},
   "source": [
    "# Task 2. Is Customer Likely to Receive Insurance Benefit?"
   ]
  },
  {
   "cell_type": "markdown",
   "metadata": {},
   "source": [
    "In terms of machine learning we can look at this like a binary classification task."
   ]
  },
  {
   "cell_type": "markdown",
   "metadata": {},
   "source": [
    "With `insurance_benefits` being more than zero as the target, evaluate whether the kNN classification approach can do better than a dummy model.\n",
    "\n",
    "Instructions:\n",
    "- Build a KNN-based classifier and measure its quality with the F1 metric for k=1..10 for both the original data and the scaled one. That'd be interesting to see how k may influece the evaluation metric, and whether scaling the data makes any difference. You can use a ready implemention of the kNN classification algorithm from scikit-learn (check [the link](https://scikit-learn.org/stable/modules/generated/sklearn.neighbors.KNeighborsClassifier.html)) or use your own.\n",
    "- Build the dummy model which is just random for this case. It should return \"1\" with some probability. Let's test the model with four probability values: 0, the probability of paying any insurance benefit, 0.5, 1.\n",
    "\n",
    "The probability of paying any insurance benefit can be defined as\n",
    "\n",
    "$$\n",
    "P\\{\\text{insurance benefit received}\\}=\\frac{\\text{number of clients received any insurance benefit}}{\\text{total number of clients}}.\n",
    "$$\n",
    "\n",
    "Split the whole data in the 70:30 proportion for the training/testing parts."
   ]
  },
  {
   "cell_type": "code",
   "execution_count": 16,
   "metadata": {},
   "outputs": [],
   "source": [
    "# calculate the target\n",
    "\n",
    "df['insurance_benefits_received'] = df['insurance_benefits'] > 0\n",
    "df_scaled['insurance_benefits_received'] = df_scaled['insurance_benefits'] > 0 "
   ]
  },
  {
   "cell_type": "code",
   "execution_count": 17,
   "metadata": {},
   "outputs": [
    {
     "data": {
      "text/plain": [
       "False    4436\n",
       "True      564\n",
       "Name: insurance_benefits_received, dtype: int64"
      ]
     },
     "execution_count": 17,
     "metadata": {},
     "output_type": "execute_result"
    }
   ],
   "source": [
    "# check for the class imbalance with value_counts()\n",
    "\n",
    "df['insurance_benefits_received'].value_counts()"
   ]
  },
  {
   "cell_type": "code",
   "execution_count": 18,
   "metadata": {},
   "outputs": [],
   "source": [
    "X= df[['gender', 'age', 'income', 'family_members']]\n",
    "y= df[['insurance_benefits_received']]\n",
    "X_scaled = df_scaled[['gender', 'age', 'income', 'family_members']]\n",
    "y_scaled = df_scaled[['insurance_benefits_received']]"
   ]
  },
  {
   "cell_type": "code",
   "execution_count": 19,
   "metadata": {},
   "outputs": [],
   "source": [
    "X_train, X_test, y_train, y_test = train_test_split(X, y, test_size=0.2, random_state=42)\n",
    "X_train_scaled, X_test_scaled, y_train_scaled, y_test_scaled = train_test_split(X_scaled, y, test_size=0.2, random_state=42)"
   ]
  },
  {
   "cell_type": "code",
   "execution_count": 20,
   "metadata": {},
   "outputs": [
    {
     "name": "stderr",
     "output_type": "stream",
     "text": [
      "/opt/conda/envs/python3/lib/python3.9/site-packages/sklearn/neighbors/_classification.py:179: DataConversionWarning: A column-vector y was passed when a 1d array was expected. Please change the shape of y to (n_samples,), for example using ravel().\n",
      "  return self._fit(X, y)\n",
      "/opt/conda/envs/python3/lib/python3.9/site-packages/sklearn/neighbors/_classification.py:179: DataConversionWarning: A column-vector y was passed when a 1d array was expected. Please change the shape of y to (n_samples,), for example using ravel().\n",
      "  return self._fit(X, y)\n",
      "/opt/conda/envs/python3/lib/python3.9/site-packages/sklearn/neighbors/_classification.py:179: DataConversionWarning: A column-vector y was passed when a 1d array was expected. Please change the shape of y to (n_samples,), for example using ravel().\n",
      "  return self._fit(X, y)\n",
      "/opt/conda/envs/python3/lib/python3.9/site-packages/sklearn/neighbors/_classification.py:179: DataConversionWarning: A column-vector y was passed when a 1d array was expected. Please change the shape of y to (n_samples,), for example using ravel().\n",
      "  return self._fit(X, y)\n",
      "/opt/conda/envs/python3/lib/python3.9/site-packages/sklearn/neighbors/_classification.py:179: DataConversionWarning: A column-vector y was passed when a 1d array was expected. Please change the shape of y to (n_samples,), for example using ravel().\n",
      "  return self._fit(X, y)\n",
      "/opt/conda/envs/python3/lib/python3.9/site-packages/sklearn/neighbors/_classification.py:179: DataConversionWarning: A column-vector y was passed when a 1d array was expected. Please change the shape of y to (n_samples,), for example using ravel().\n",
      "  return self._fit(X, y)\n",
      "/opt/conda/envs/python3/lib/python3.9/site-packages/sklearn/neighbors/_classification.py:179: DataConversionWarning: A column-vector y was passed when a 1d array was expected. Please change the shape of y to (n_samples,), for example using ravel().\n",
      "  return self._fit(X, y)\n",
      "/opt/conda/envs/python3/lib/python3.9/site-packages/sklearn/neighbors/_classification.py:179: DataConversionWarning: A column-vector y was passed when a 1d array was expected. Please change the shape of y to (n_samples,), for example using ravel().\n",
      "  return self._fit(X, y)\n",
      "/opt/conda/envs/python3/lib/python3.9/site-packages/sklearn/neighbors/_classification.py:179: DataConversionWarning: A column-vector y was passed when a 1d array was expected. Please change the shape of y to (n_samples,), for example using ravel().\n",
      "  return self._fit(X, y)\n",
      "/opt/conda/envs/python3/lib/python3.9/site-packages/sklearn/neighbors/_classification.py:179: DataConversionWarning: A column-vector y was passed when a 1d array was expected. Please change the shape of y to (n_samples,), for example using ravel().\n",
      "  return self._fit(X, y)\n",
      "/opt/conda/envs/python3/lib/python3.9/site-packages/sklearn/neighbors/_classification.py:179: DataConversionWarning: A column-vector y was passed when a 1d array was expected. Please change the shape of y to (n_samples,), for example using ravel().\n",
      "  return self._fit(X, y)\n",
      "/opt/conda/envs/python3/lib/python3.9/site-packages/sklearn/neighbors/_classification.py:179: DataConversionWarning: A column-vector y was passed when a 1d array was expected. Please change the shape of y to (n_samples,), for example using ravel().\n",
      "  return self._fit(X, y)\n",
      "/opt/conda/envs/python3/lib/python3.9/site-packages/sklearn/neighbors/_classification.py:179: DataConversionWarning: A column-vector y was passed when a 1d array was expected. Please change the shape of y to (n_samples,), for example using ravel().\n",
      "  return self._fit(X, y)\n",
      "/opt/conda/envs/python3/lib/python3.9/site-packages/sklearn/neighbors/_classification.py:179: DataConversionWarning: A column-vector y was passed when a 1d array was expected. Please change the shape of y to (n_samples,), for example using ravel().\n",
      "  return self._fit(X, y)\n",
      "/opt/conda/envs/python3/lib/python3.9/site-packages/sklearn/neighbors/_classification.py:179: DataConversionWarning: A column-vector y was passed when a 1d array was expected. Please change the shape of y to (n_samples,), for example using ravel().\n",
      "  return self._fit(X, y)\n",
      "/opt/conda/envs/python3/lib/python3.9/site-packages/sklearn/neighbors/_classification.py:179: DataConversionWarning: A column-vector y was passed when a 1d array was expected. Please change the shape of y to (n_samples,), for example using ravel().\n",
      "  return self._fit(X, y)\n",
      "/opt/conda/envs/python3/lib/python3.9/site-packages/sklearn/neighbors/_classification.py:179: DataConversionWarning: A column-vector y was passed when a 1d array was expected. Please change the shape of y to (n_samples,), for example using ravel().\n",
      "  return self._fit(X, y)\n",
      "/opt/conda/envs/python3/lib/python3.9/site-packages/sklearn/neighbors/_classification.py:179: DataConversionWarning: A column-vector y was passed when a 1d array was expected. Please change the shape of y to (n_samples,), for example using ravel().\n",
      "  return self._fit(X, y)\n"
     ]
    },
    {
     "name": "stdout",
     "output_type": "stream",
     "text": [
      "F1 Scores for Original Data:  [0.6559139784946237, 0.44755244755244755, 0.4675324675324675, 0.1935483870967742, 0.20634920634920637, 0.10434782608695652, 0.10434782608695652, 0.03603603603603604, 0.03603603603603604, 0.0]\n",
      "F1 Scores for Scaled Data:  [0.9339622641509433, 0.9223300970873787, 0.9289099526066351, 0.911764705882353, 0.9383886255924171, 0.9170731707317074, 0.9282296650717704, 0.9045226130653267, 0.9365853658536586, 0.9207920792079208]\n"
     ]
    },
    {
     "name": "stderr",
     "output_type": "stream",
     "text": [
      "/opt/conda/envs/python3/lib/python3.9/site-packages/sklearn/neighbors/_classification.py:179: DataConversionWarning: A column-vector y was passed when a 1d array was expected. Please change the shape of y to (n_samples,), for example using ravel().\n",
      "  return self._fit(X, y)\n",
      "/opt/conda/envs/python3/lib/python3.9/site-packages/sklearn/neighbors/_classification.py:179: DataConversionWarning: A column-vector y was passed when a 1d array was expected. Please change the shape of y to (n_samples,), for example using ravel().\n",
      "  return self._fit(X, y)\n"
     ]
    }
   ],
   "source": [
    "from sklearn.neighbors import KNeighborsClassifier\n",
    "from sklearn.metrics import f1_score\n",
    "\n",
    "f1_scores_original = []\n",
    "f1_scores_scaled = []\n",
    "   \n",
    "for k in range(1, 11):\n",
    "    # Original data\n",
    "    knn = KNeighborsClassifier(n_neighbors=k)\n",
    "    knn.fit(X_train, y_train)\n",
    "    y_pred = knn.predict(X_test)\n",
    "    f1_scores_original.append(f1_score(y_test, y_pred))\n",
    "   \n",
    "    # Scaled data\n",
    "    knn.fit(X_train_scaled, y_train)\n",
    "    y_pred_scaled = knn.predict(X_test_scaled)\n",
    "    f1_scores_scaled.append(f1_score(y_test, y_pred_scaled))\n",
    "   \n",
    "print(\"F1 Scores for Original Data: \", f1_scores_original)\n",
    "print(\"F1 Scores for Scaled Data: \", f1_scores_scaled)"
   ]
  },
  {
   "cell_type": "code",
   "execution_count": 21,
   "metadata": {},
   "outputs": [
    {
     "data": {
      "image/png": "[encoded data removed]",
      "text/plain": [
       "<Figure size 640x480 with 1 Axes>"
      ]
     },
     "metadata": {},
     "output_type": "display_data"
    }
   ],
   "source": [
    "import matplotlib.pyplot as plt\n",
    "   \n",
    "plt.plot(range(1, 11), f1_scores_original, label='Original Data')\n",
    "plt.plot(range(1, 11), f1_scores_scaled, label='Scaled Data', linestyle='--')\n",
    "plt.xlabel('Number of Neighbors (k)')\n",
    "plt.ylabel('F1 Score')\n",
    "plt.title('F1 Score vs Number of Neighbors')\n",
    "plt.legend()\n",
    "plt.show()\n",
    "   \n"
   ]
  },
  {
   "cell_type": "code",
   "execution_count": 22,
   "metadata": {},
   "outputs": [],
   "source": [
    "def eval_classifier(y_true, y_pred):\n",
    "    \n",
    "    f1_score = sklearn.metrics.f1_score(y_true, y_pred)\n",
    "    print(f'F1: {f1_score:.2f}')\n",
    "    \n",
    "\n",
    "    cm = sklearn.metrics.confusion_matrix(y_true, y_pred, normalize='all')\n",
    "    print('Confusion Matrix')\n",
    "    print(cm)"
   ]
  },
  {
   "cell_type": "code",
   "execution_count": 23,
   "metadata": {},
   "outputs": [],
   "source": [
    "# generating output of a random model\n",
    "\n",
    "def rnd_model_predict(P, size, seed=42):\n",
    "\n",
    "    rng = np.random.default_rng(seed=seed)\n",
    "    return rng.binomial(n=1, p=P, size=size)"
   ]
  },
  {
   "cell_type": "code",
   "execution_count": 24,
   "metadata": {
    "scrolled": false
   },
   "outputs": [
    {
     "name": "stdout",
     "output_type": "stream",
     "text": [
      "The probability: 0.00\n",
      "F1: 0.00\n",
      "Confusion Matrix\n",
      "[[0.8872 0.    ]\n",
      " [0.1128 0.    ]]\n",
      "\n",
      "The probability: 0.11\n",
      "F1: 0.12\n",
      "Confusion Matrix\n",
      "[[0.7914 0.0958]\n",
      " [0.0994 0.0134]]\n",
      "\n",
      "The probability: 0.50\n",
      "F1: 0.20\n",
      "Confusion Matrix\n",
      "[[0.456  0.4312]\n",
      " [0.053  0.0598]]\n",
      "\n",
      "The probability: 1.00\n",
      "F1: 0.20\n",
      "Confusion Matrix\n",
      "[[0.     0.8872]\n",
      " [0.     0.1128]]\n",
      "\n"
     ]
    }
   ],
   "source": [
    "for P in [0, df['insurance_benefits_received'].sum() / len(df), 0.5, 1]:\n",
    "\n",
    "    print(f'The probability: {P:.2f}')\n",
    "    y_pred_rnd = rnd_model_predict(P, len(df))\n",
    "        \n",
    "    eval_classifier(df['insurance_benefits_received'], y_pred_rnd)\n",
    "    \n",
    "    print()"
   ]
  },
  {
   "cell_type": "markdown",
   "metadata": {},
   "source": [
    "Conclusion:\n",
    "\n",
    "Here we have built a kNN evaluator to test the f1 score with k values ranging from 1-10 for both our scaled and unscaled data. After that we created a dummy model for this case to see which one performs better. We can draw some conclusions from our results.\n",
    "\n",
    "1. For unscaled data, increasing k decreases our f1 score by about 0.15 with each k added to our evaluator\n",
    "2. Scaling our data seems to significantly improve our f1 scores and f1 scores with scaled data do not decrease with additional k values\n",
    "3. Our highest f1 score for our best unscaled data prediction is between 0.6 and 0.7 (k=1)\n",
    "4. Our highest f1 score for our best scaled data prediction is abobe 0.9 and is consistent no matter the k value\n",
    "5. Our dummy model does not yield better f1 results than either our scaled or unscaled kNN evaluator."
   ]
  },
  {
   "cell_type": "markdown",
   "metadata": {},
   "source": [
    "# Task 3. Regression (with Linear Regression)"
   ]
  },
  {
   "cell_type": "markdown",
   "metadata": {},
   "source": [
    "With `insurance_benefits` as the target, evaluate what RMSE would be for a Linear Regression model."
   ]
  },
  {
   "cell_type": "markdown",
   "metadata": {},
   "source": [
    "Build your own implementation of LR. For that, recall how the linear regression task's solution is formulated in terms of LA. Check RMSE for both the original data and the scaled one. Can you see any difference in RMSE between these two cases?\n",
    "\n",
    "Let's denote\n",
    "- $X$ — feature matrix, each row is a case, each column is a feature, the first column consists of unities\n",
    "- $y$ — target (a vector)\n",
    "- $\\hat{y}$ — estimated tagret (a vector)\n",
    "- $w$ — weight vector\n",
    "\n",
    "The task of linear regression in the language of matrices can be formulated as\n",
    "\n",
    "$$\n",
    "y = Xw\n",
    "$$\n",
    "\n",
    "The training objective then is to find such $w$ that it would minimize the L2-distance (MSE) between $Xw$ and $y$:\n",
    "\n",
    "$$\n",
    "\\min_w d_2(Xw, y) \\quad \\text{or} \\quad \\min_w \\text{MSE}(Xw, y)\n",
    "$$\n",
    "\n",
    "It appears that there is analytical solution for the above:\n",
    "\n",
    "$$\n",
    "w = (X^T X)^{-1} X^T y\n",
    "$$\n",
    "\n",
    "The formula above can be used to find the weights $w$ and the latter can be used to calculate predicted values\n",
    "\n",
    "$$\n",
    "\\hat{y} = X_{val}w\n",
    "$$"
   ]
  },
  {
   "cell_type": "markdown",
   "metadata": {},
   "source": [
    "Split the whole data in the 70:30 proportion for the training/validation parts. Use the RMSE metric for the model evaluation."
   ]
  },
  {
   "cell_type": "code",
   "execution_count": 25,
   "metadata": {},
   "outputs": [],
   "source": [
    "class MyLinearRegression:\n",
    "    def __init__(self):\n",
    "        self.weights = None\n",
    "    \n",
    "    def fit(self, X, y):\n",
    "        # Correcting the addition of ones to X\n",
    "        X2 = np.append(np.ones((len(X), 1)), X, axis=1)\n",
    "        # Correcting the case and removing to_numpy for y\n",
    "        self.weights = np.linalg.inv(np.dot(X2.T, X2)).dot(X2.T).dot(y)\n",
    "\n",
    "    def predict(self, X):\n",
    "        # Correcting the addition of ones to X in predict method\n",
    "        X2 = np.append(np.ones((len(X), 1)), X, axis=1)\n",
    "        y_pred = X2.dot(self.weights)\n",
    "        return y_pred"
   ]
  },
  {
   "cell_type": "code",
   "execution_count": 26,
   "metadata": {},
   "outputs": [],
   "source": [
    "def eval_regressor(y_true, y_pred):\n",
    "    rmse = math.sqrt(sklearn.metrics.mean_squared_error(y_true, y_pred))\n",
    "    print(f'RMSE: {rmse:.2f}')\n",
    "    \n",
    "    r2_score = sklearn.metrics.r2_score(y_true, y_pred)\n",
    "    print(f'R2: {r2_score:.2f}') "
   ]
  },
  {
   "cell_type": "code",
   "execution_count": 27,
   "metadata": {},
   "outputs": [
    {
     "data": {
      "text/html": [
       "<div>\n",
       "<style scoped>\n",
       "    .dataframe tbody tr th:only-of-type {\n",
       "        vertical-align: middle;\n",
       "    }\n",
       "\n",
       "    .dataframe tbody tr th {\n",
       "        vertical-align: top;\n",
       "    }\n",
       "\n",
       "    .dataframe thead th {\n",
       "        text-align: right;\n",
       "    }\n",
       "</style>\n",
       "<table border=\"1\" class=\"dataframe\">\n",
       "  <thead>\n",
       "    <tr style=\"text-align: right;\">\n",
       "      <th></th>\n",
       "      <th>gender</th>\n",
       "      <th>age</th>\n",
       "      <th>income</th>\n",
       "      <th>family_members</th>\n",
       "      <th>insurance_benefits</th>\n",
       "      <th>insurance_benefits_received</th>\n",
       "    </tr>\n",
       "  </thead>\n",
       "  <tbody>\n",
       "    <tr>\n",
       "      <th>0</th>\n",
       "      <td>1</td>\n",
       "      <td>41</td>\n",
       "      <td>49600.0</td>\n",
       "      <td>1</td>\n",
       "      <td>0</td>\n",
       "      <td>False</td>\n",
       "    </tr>\n",
       "    <tr>\n",
       "      <th>1</th>\n",
       "      <td>0</td>\n",
       "      <td>46</td>\n",
       "      <td>38000.0</td>\n",
       "      <td>1</td>\n",
       "      <td>1</td>\n",
       "      <td>True</td>\n",
       "    </tr>\n",
       "    <tr>\n",
       "      <th>2</th>\n",
       "      <td>0</td>\n",
       "      <td>29</td>\n",
       "      <td>21000.0</td>\n",
       "      <td>0</td>\n",
       "      <td>0</td>\n",
       "      <td>False</td>\n",
       "    </tr>\n",
       "    <tr>\n",
       "      <th>3</th>\n",
       "      <td>0</td>\n",
       "      <td>21</td>\n",
       "      <td>41700.0</td>\n",
       "      <td>2</td>\n",
       "      <td>0</td>\n",
       "      <td>False</td>\n",
       "    </tr>\n",
       "    <tr>\n",
       "      <th>4</th>\n",
       "      <td>1</td>\n",
       "      <td>28</td>\n",
       "      <td>26100.0</td>\n",
       "      <td>0</td>\n",
       "      <td>0</td>\n",
       "      <td>False</td>\n",
       "    </tr>\n",
       "  </tbody>\n",
       "</table>\n",
       "</div>"
      ],
      "text/plain": [
       "   gender  age   income  family_members  insurance_benefits  \\\n",
       "0       1   41  49600.0               1                   0   \n",
       "1       0   46  38000.0               1                   1   \n",
       "2       0   29  21000.0               0                   0   \n",
       "3       0   21  41700.0               2                   0   \n",
       "4       1   28  26100.0               0                   0   \n",
       "\n",
       "   insurance_benefits_received  \n",
       "0                        False  \n",
       "1                         True  \n",
       "2                        False  \n",
       "3                        False  \n",
       "4                        False  "
      ]
     },
     "execution_count": 27,
     "metadata": {},
     "output_type": "execute_result"
    }
   ],
   "source": [
    "df.head()"
   ]
  },
  {
   "cell_type": "code",
   "execution_count": 28,
   "metadata": {},
   "outputs": [
    {
     "name": "stdout",
     "output_type": "stream",
     "text": [
      "[[-6.54335626e-01]\n",
      " [-2.13857583e-03]\n",
      " [ 2.48414312e-02]\n",
      " [ 1.33714029e-07]\n",
      " [-7.90827397e-03]]\n",
      "RMSE: 0.23\n",
      "R2: 0.45\n",
      "[[-0.65433563]\n",
      " [-0.00213858]\n",
      " [ 1.61469303]\n",
      " [ 0.01056341]\n",
      " [-0.04744964]]\n",
      "RMSE: 0.23\n",
      "R2: 0.45\n"
     ]
    }
   ],
   "source": [
    "lr1 = MyLinearRegression()\n",
    "\n",
    "lr1.fit(X_train, y_train)\n",
    "print(lr1.weights)\n",
    "\n",
    "y_test_pred = lr1.predict(X_test)\n",
    "eval_regressor(y_test, y_test_pred)\n",
    "\n",
    "lr2 = MyLinearRegression()\n",
    "\n",
    "lr2.fit(X_train_scaled, y_train_scaled)\n",
    "print(lr2.weights)\n",
    "\n",
    "y_test_scaled_pred = lr2.predict(X_test_scaled)\n",
    "eval_regressor(y_test_scaled, y_test_scaled_pred)"
   ]
  },
  {
   "cell_type": "markdown",
   "metadata": {},
   "source": [
    "Conclusion:\n",
    "\n",
    "We have created a linear regression model and tested it for RMSE values for both unscaled and scaled data. The RMSE and R2 values showed no differences between the two datasets. This is in line with our understanding of linear regression models as scaling data should not impact metrics like RMSE or R2 because scaling data uniformily doesn't change the underlying linear relationship within the data."
   ]
  },
  {
   "cell_type": "markdown",
   "metadata": {},
   "source": [
    "# Task 4. Obfuscating Data"
   ]
  },
  {
   "cell_type": "markdown",
   "metadata": {},
   "source": [
    "It best to obfuscate data by multiplying the numerical features (remember, they can be seen as the matrix $X$) by an invertible matrix $P$. \n",
    "\n",
    "$$\n",
    "X' = X \\times P\n",
    "$$\n",
    "\n",
    "Try to do that and check how the features' values will look like after the transformation. By the way, the intertible property is important here so make sure that $P$ is indeed invertible.\n",
    "\n",
    "You may want to review the 'Matrices and Matrix Operations -> Matrix Multiplication' lesson to recall the rule of matrix multiplication and its implementation with NumPy."
   ]
  },
  {
   "cell_type": "code",
   "execution_count": 29,
   "metadata": {},
   "outputs": [],
   "source": [
    "personal_info_column_list = ['gender', 'age', 'income', 'family_members']\n",
    "df_pn = df[personal_info_column_list]"
   ]
  },
  {
   "cell_type": "code",
   "execution_count": 30,
   "metadata": {},
   "outputs": [],
   "source": [
    "X = df_pn.to_numpy()"
   ]
  },
  {
   "cell_type": "markdown",
   "metadata": {},
   "source": [
    "Generating a random matrix $P$."
   ]
  },
  {
   "cell_type": "code",
   "execution_count": 31,
   "metadata": {},
   "outputs": [],
   "source": [
    "rng = np.random.default_rng(seed=42)\n",
    "P = rng.random(size=(X.shape[1], X.shape[1]))"
   ]
  },
  {
   "cell_type": "markdown",
   "metadata": {},
   "source": [
    "Checking the matrix $P$ is invertible"
   ]
  },
  {
   "cell_type": "code",
   "execution_count": 32,
   "metadata": {},
   "outputs": [
    {
     "name": "stdout",
     "output_type": "stream",
     "text": [
      "Matrix P:\n",
      " [[0.77395605 0.43887844 0.85859792 0.69736803]\n",
      " [0.09417735 0.97562235 0.7611397  0.78606431]\n",
      " [0.12811363 0.45038594 0.37079802 0.92676499]\n",
      " [0.64386512 0.82276161 0.4434142  0.22723872]]\n",
      "\n",
      "Inverse Matrix P:\n",
      " [[ 0.41467992 -1.43783972  0.62798546  1.14001268]\n",
      " [-1.06101789  0.44219337  0.1329549   1.18425933]\n",
      " [ 1.42362442  1.60461607 -2.0553823  -1.53699695]\n",
      " [-0.11128575 -0.65813802  1.74995517 -0.11816316]]\n"
     ]
    }
   ],
   "source": [
    "try:\n",
    "    np.allclose(np.dot(P, np.linalg.inv(P)), np.eye(4))\n",
    "except:\n",
    "    print(\"Matrix P is not invertible\")\n",
    "else:\n",
    "    inverse_P = np.linalg.inv(P)\n",
    "    print('Matrix P:\\n', P)\n",
    "    print()\n",
    "    print('Inverse Matrix P:\\n', inverse_P)"
   ]
  },
  {
   "cell_type": "markdown",
   "metadata": {},
   "source": [
    "Can you guess the customers' ages or income after the transformation?"
   ]
  },
  {
   "cell_type": "markdown",
   "metadata": {},
   "source": [
    "No, it is not possible to accurately guess customers' ages or income after the transformation without access to the transformation matrix ( P ) or its inverse ( P^{-1} ). Since P is randomly generated the original data cannot be easily retrieved and therefor is not available to us."
   ]
  },
  {
   "cell_type": "code",
   "execution_count": 33,
   "metadata": {},
   "outputs": [
    {
     "name": "stdout",
     "output_type": "stream",
     "text": [
      "Transformed data (first 5 rows):\n",
      " [[ 6359.71527314 22380.40467609 18424.09074184 46000.69669016]\n",
      " [ 4873.29406479 17160.36702982 14125.78076133 35253.45577301]\n",
      " [ 2693.11742928  9486.397744    7808.83156024 19484.86063067]\n",
      " [ 5345.60393712 18803.22720286 15479.14837264 38663.06186284]\n",
      " [ 3347.17673462 11782.82928336  9699.99894205 24211.27337753]]\n"
     ]
    }
   ],
   "source": [
    "# Transform the data\n",
    "X_transformed = np.dot(X, P)\n",
    "print(\"Transformed data (first 5 rows):\\n\", X_transformed[:5])\n",
    "\n"
   ]
  },
  {
   "cell_type": "markdown",
   "metadata": {},
   "source": [
    "Can you recover the original data from $X'$ if you know $P$? Try to check that with calculations by moving $P$ from the right side of the formula above to the left one. The rules of matrix multiplcation are really helpful here."
   ]
  },
  {
   "cell_type": "code",
   "execution_count": 34,
   "metadata": {},
   "outputs": [
    {
     "name": "stdout",
     "output_type": "stream",
     "text": [
      "Is the original data recovered accurately?  True\n",
      "Original data (first 5 rows):\n",
      " [[1.00e+00 4.10e+01 4.96e+04 1.00e+00]\n",
      " [0.00e+00 4.60e+01 3.80e+04 1.00e+00]\n",
      " [0.00e+00 2.90e+01 2.10e+04 0.00e+00]\n",
      " [0.00e+00 2.10e+01 4.17e+04 2.00e+00]\n",
      " [1.00e+00 2.80e+01 2.61e+04 0.00e+00]]\n",
      "Transformed data (first 5 rows):\n",
      " [[ 6359.71527314 22380.40467609 18424.09074184 46000.69669016]\n",
      " [ 4873.29406479 17160.36702982 14125.78076133 35253.45577301]\n",
      " [ 2693.11742928  9486.397744    7808.83156024 19484.86063067]\n",
      " [ 5345.60393712 18803.22720286 15479.14837264 38663.06186284]\n",
      " [ 3347.17673462 11782.82928336  9699.99894205 24211.27337753]]\n",
      "Recovered data (first 5 rows):\n",
      " [[ 1.00000000e+00  4.10000000e+01  4.96000000e+04  1.00000000e+00]\n",
      " [-4.47363596e-12  4.60000000e+01  3.80000000e+04  1.00000000e+00]\n",
      " [-2.51586878e-12  2.90000000e+01  2.10000000e+04  9.52452315e-13]\n",
      " [-4.84498208e-12  2.10000000e+01  4.17000000e+04  2.00000000e+00]\n",
      " [ 1.00000000e+00  2.80000000e+01  2.61000000e+04 -1.01990740e-13]]\n"
     ]
    }
   ],
   "source": [
    "# Recover the original data\n",
    "X_recovered = np.dot(X_transformed, inverse_P)\n",
    "print(\"Is the original data recovered accurately? \", np.allclose(X, X_recovered))\n",
    "print(\"Original data (first 5 rows):\\n\", X[:5])\n",
    "print(\"Transformed data (first 5 rows):\\n\", X_transformed[:5])\n",
    "print(\"Recovered data (first 5 rows):\\n\", X_recovered[:5])"
   ]
  },
  {
   "cell_type": "markdown",
   "metadata": {},
   "source": [
    "Print all three cases for a few customers\n",
    "- The original data\n",
    "- The transformed one\n",
    "- The reversed (recovered) one"
   ]
  },
  {
   "cell_type": "markdown",
   "metadata": {},
   "source": [
    "You can probably see that some values are not exactly the same as they are in the original data. What might be the reason for that?"
   ]
  },
  {
   "cell_type": "markdown",
   "metadata": {},
   "source": [
    "It's possible that the values would be slightly different after the transformation and recovery due to accumulation of rounding errors when transforming values. The more a dataset is multiplied by inverse P, the more likely these tiny errors in precision will accumulate and change the data values. Even though each individual multiplication might introduce tiny errors, when you perform two successive multiplications (first to obfuscate and then to recover), these small errors may accumulate, leading to a slight deviation from the original dataset."
   ]
  },
  {
   "cell_type": "markdown",
   "metadata": {},
   "source": [
    "## Proof That Data Obfuscation Can Work with LR"
   ]
  },
  {
   "cell_type": "markdown",
   "metadata": {},
   "source": [
    "The regression task has been solved with linear regression in this project. Your next task is to prove _analytically_ that the given obfuscation method won't affect linear regression in terms of predicted values i.e. their values will remain the same. Can you believe that? Well, you don't have to, you should prove it!"
   ]
  },
  {
   "cell_type": "markdown",
   "metadata": {},
   "source": [
    "So, the data is obfuscated and there is $X \\times P$ instead of just $X$ now. Consequently, there are other weights $w_P$ as\n",
    "$$\n",
    "w = (X^T X)^{-1} X^T y \\quad \\Rightarrow \\quad w_P = [(XP)^T XP]^{-1} (XP)^T y\n",
    "$$\n",
    "\n",
    "How would $w$ and $w_P$ be linked if you simplify the formula for $w_P$ above? \n",
    "\n",
    "What would be predicted values with $w_P$? \n",
    "\n",
    "What does that mean for the quality of linear regression if you measure it with RMSE?\n",
    "\n",
    "Check Appendix B Properties of Matrices in the end of the notebook. There are useful formulas in there!\n",
    "\n",
    "No code is necessary in this section, only analytical explanation!"
   ]
  },
  {
   "cell_type": "markdown",
   "metadata": {},
   "source": [
    "**Answer**"
   ]
  },
  {
   "cell_type": "markdown",
   "metadata": {},
   "source": [
    "The essential idea is that under certain conditions (like (P) being orthogonal), obfuscated data does not fundamentally alter the predictive capability of a linear regression model, as the transformation is reversible and preserves linear relationships.\n"
   ]
  },
  {
   "cell_type": "markdown",
   "metadata": {},
   "source": [
    "**Analytical proof**"
   ]
  },
  {
   "cell_type": "markdown",
   "metadata": {},
   "source": [
    "Given:\n",
    "[ w_P = [(XP)^T(XP)]^{-1}(XP)^Ty ]\n",
    "\n",
    "First, rewrite ( (XP)^T(XP) ):\n",
    "[ (XP)^T(XP) = P^TX^TXP ]\n",
    "\n",
    "Thus:\n",
    "[ w_P = (P^TX^TXP)^{-1}(XP)^Ty ]\n",
    "\n",
    "By properties of matrix inversion (Appendix B), we know:\n",
    "[ (P^TX^TXP)^{-1} = P^{-1}(X^TX)^{-1}(P^T)^{-1} ]\n",
    "\n",
    "Using this, we get:\n",
    "[ w_P = P^{-1}(X^TX)^{-1}(P^T)^{-1}(XP)^Ty ]\n",
    "\n",
    "Next, simplify:\n",
    "[ (XP)^Ty = P^TX^Ty ]\n",
    "\n",
    "So now:\n",
    "[ w_P = P^{-1}(X^TX)^{-1}(P^T)^{-1} P^T X^T y ]\n",
    "\n",
    "From properties of inverses:\n",
    "[ (P^T)^{-1}P^T = I ]\n",
    "\n",
    "Thus:\n",
    "[ w_P = P^{-1} (X^TX)^{-1} X^Ty ]\n",
    "\n",
    "Since ( (X^TX)^{-1}X^Ty = w ):\n",
    "[ w_P = P^{-1} w ]\n",
    "\n",
    "#### Predicted Values:\n",
    "For ( w ), predicted values are:\n",
    "[ Xw ]\n",
    "\n",
    "For ( w_P ), we have:\n",
    "[ X_P w_P = XPw_P = XP(P^{-1}w) ]\n",
    "\n",
    "Since:\n",
    "[ P(P^{-1}) = I ]\n",
    "\n",
    "We get:\n",
    "[ XP(P^{-1}w) = Xw ]\n",
    "\n",
    "Conclusion:\n",
    "The predicted values using ( w ) and ( w_P ) are the same:\n",
    "[ Xw = X_P w_P ]"
   ]
  },
  {
   "cell_type": "markdown",
   "metadata": {},
   "source": [
    "## Test Linear Regression With Data Obfuscation"
   ]
  },
  {
   "cell_type": "markdown",
   "metadata": {},
   "source": [
    "Now, let's prove Linear Regression can work computationally with the chosen obfuscation transformation.\n",
    "\n",
    "Build a procedure or a class that runs Linear Regression optionally with the obfuscation. You can use either a ready implementation of Linear Regression from sciki-learn or your own.\n",
    "\n",
    "Run Linear Regression for the original data and the obfuscated one, compare the predicted values and the RMSE, $R^2$ metric values. Is there any difference?"
   ]
  },
  {
   "cell_type": "markdown",
   "metadata": {},
   "source": [
    "**Procedure**\n",
    "\n",
    "- Create a square matrix $P$ of random numbers.\n",
    "- Check that it is invertible. If not, repeat the first point until we get an invertible matrix.\n",
    "- <! your comment here !>\n",
    "- Use $XP$ as the new feature matrix"
   ]
  },
  {
   "cell_type": "code",
   "execution_count": 35,
   "metadata": {},
   "outputs": [],
   "source": [
    "#create a square matrix of random numbers\n",
    "rng = np.random.default_rng(seed=42)\n",
    "P = rng.random(size=(X.shape[1], X.shape[1]))"
   ]
  },
  {
   "cell_type": "code",
   "execution_count": 36,
   "metadata": {},
   "outputs": [
    {
     "data": {
      "text/plain": [
       "True"
      ]
     },
     "execution_count": 36,
     "metadata": {},
     "output_type": "execute_result"
    }
   ],
   "source": [
    "np.allclose((P.dot(np.linalg.inv(P))), np.eye(4))"
   ]
  },
  {
   "cell_type": "code",
   "execution_count": 37,
   "metadata": {},
   "outputs": [
    {
     "name": "stdout",
     "output_type": "stream",
     "text": [
      "RMSE: 0.23\n",
      "R2: 0.45\n"
     ]
    }
   ],
   "source": [
    "from sklearn.linear_model import LinearRegression\n",
    "\n",
    "#create matrix XP\n",
    "XP_train = X_train.dot(P)\n",
    "XP_test = X_test.dot(P)\n",
    "\n",
    "#train model with obfuscated data\n",
    "model = LinearRegression()\n",
    "model.fit(XP_train, y_train)\n",
    "y_test_pred_obfs = model.predict(XP_test)\n",
    "eval_regressor(y_test, y_test_pred_obfs)"
   ]
  },
  {
   "cell_type": "code",
   "execution_count": 38,
   "metadata": {},
   "outputs": [
    {
     "name": "stdout",
     "output_type": "stream",
     "text": [
      "RMSE: 0.23\n",
      "R2: 0.45\n"
     ]
    }
   ],
   "source": [
    "model = LinearRegression()\n",
    "model.fit(X_train, y_train)\n",
    "y_test_pred = model.predict(X_test)\n",
    "eval_regressor(y_test, y_test_pred)"
   ]
  },
  {
   "cell_type": "markdown",
   "metadata": {},
   "source": [
    "# Conclusions"
   ]
  },
  {
   "cell_type": "markdown",
   "metadata": {},
   "source": [
    "We have completed our analysis of the Sure Tomorrow Insurance Company to identify a few key observations about customer behavior:\n",
    "\n",
    "1. We designed a model to identify potential customers that are close in behavior and demographic to current customers.\n",
    "2. We designed a model to determine the probability of customers to make a purchase of insurance and increased the accuracy of our model by using scaled data. Our results were tested against a random dummy model to determine if we could significantly outperform it which our model was able to achieve.\n",
    "3. We used a linear regression model to check RMSE and R2 scores of scaled and unscaled data and displayed our results.\n",
    "4. We obfuscated out data by multipying our data by an inverse of P and then recovered our dataset to make sure customer data is protected without breaking our prediction model."
   ]
  },
  {
   "cell_type": "markdown",
   "metadata": {},
   "source": [
    "# Checklist"
   ]
  },
  {
   "cell_type": "markdown",
   "metadata": {},
   "source": [
    "# Appendices \n",
    "\n",
    "## Appendix A: Writing Formulas in Jupyter Notebooks"
   ]
  },
  {
   "cell_type": "markdown",
   "metadata": {},
   "source": [
    "You can write formulas in your Jupyter Notebook in a markup language provided by a high-quality publishing system called $\\LaTeX$ (pronounced \"Lah-tech\"), and they will look like formulas in textbooks.\n",
    "\n",
    "To put a formula in a text, put the dollar sign (\\\\$) before and after the formula's text e.g. $\\frac{1}{2} \\times \\frac{3}{2} = \\frac{3}{4}$ or $y = x^2, x \\ge 1$.\n",
    "\n",
    "If a formula should be in its own paragraph, put the double dollar sign (\\\\$\\\\$) before and after the formula text e.g.\n",
    "\n",
    "$$\n",
    "\\bar{x} = \\frac{1}{n}\\sum_{i=1}^{n} x_i.\n",
    "$$\n",
    "\n",
    "The markup language of [LaTeX](https://en.wikipedia.org/wiki/LaTeX) is very popular among people who use formulas in their articles, books and texts. It can be complex but its basics are easy. Check this two page [cheatsheet](http://tug.ctan.org/info/undergradmath/undergradmath.pdf) for learning how to compose the most common formulas."
   ]
  },
  {
   "cell_type": "markdown",
   "metadata": {},
   "source": [
    "## Appendix B: Properties of Matrices"
   ]
  },
  {
   "cell_type": "markdown",
   "metadata": {},
   "source": [
    "Matrices have many properties in Linear Algebra. A few of them are listed here which can help with the analytical proof in this project."
   ]
  },
  {
   "cell_type": "markdown",
   "metadata": {},
   "source": [
    "<table>\n",
    "<tr>\n",
    "<td>Distributivity</td><td>$A(B+C)=AB+AC$</td>\n",
    "</tr>\n",
    "<tr>\n",
    "<td>Non-commutativity</td><td>$AB \\neq BA$</td>\n",
    "</tr>\n",
    "<tr>\n",
    "<td>Associative property of multiplication</td><td>$(AB)C = A(BC)$</td>\n",
    "</tr>\n",
    "<tr>\n",
    "<td>Multiplicative identity property</td><td>$IA = AI = A$</td>\n",
    "</tr>\n",
    "<tr>\n",
    "<td></td><td>$A^{-1}A = AA^{-1} = I$\n",
    "</td>\n",
    "</tr>    \n",
    "<tr>\n",
    "<td></td><td>$(AB)^{-1} = B^{-1}A^{-1}$</td>\n",
    "</tr>    \n",
    "<tr>\n",
    "<td>Reversivity of the transpose of a product of matrices,</td><td>$(AB)^T = B^TA^T$</td>\n",
    "</tr>    \n",
    "</table>"
   ]
  },
  {
   "cell_type": "code",
   "execution_count": null,
   "metadata": {},
   "outputs": [],
   "source": []
  }
 ],
 "metadata": {
  "ExecuteTimeLog": [
   {
    "duration": 164,
    "start_time": "2024-09-11T21:42:31.574Z"
   },
   {
    "duration": 2760,
    "start_time": "2024-09-11T21:42:39.510Z"
   },
   {
    "duration": 14,
    "start_time": "2024-09-11T21:42:42.272Z"
   },
   {
    "duration": 4,
    "start_time": "2024-09-11T21:42:42.287Z"
   },
   {
    "duration": 10,
    "start_time": "2024-09-11T21:42:42.293Z"
   },
   {
    "duration": 9,
    "start_time": "2024-09-11T21:42:42.305Z"
   },
   {
    "duration": 16,
    "start_time": "2024-09-11T21:42:42.316Z"
   },
   {
    "duration": 2,
    "start_time": "2024-09-11T21:42:42.334Z"
   },
   {
    "duration": 2,
    "start_time": "2024-09-11T21:42:42.338Z"
   },
   {
    "duration": 2618,
    "start_time": "2024-09-11T21:42:42.342Z"
   },
   {
    "duration": 2,
    "start_time": "2024-09-11T21:42:44.963Z"
   },
   {
    "duration": 6,
    "start_time": "2024-09-11T21:42:44.967Z"
   },
   {
    "duration": 0,
    "start_time": "2024-09-11T21:42:44.974Z"
   },
   {
    "duration": 0,
    "start_time": "2024-09-11T21:42:44.976Z"
   },
   {
    "duration": 0,
    "start_time": "2024-09-11T21:42:44.977Z"
   },
   {
    "duration": 0,
    "start_time": "2024-09-11T21:42:44.978Z"
   },
   {
    "duration": 0,
    "start_time": "2024-09-11T21:42:44.979Z"
   },
   {
    "duration": 0,
    "start_time": "2024-09-11T21:42:44.981Z"
   },
   {
    "duration": 0,
    "start_time": "2024-09-11T21:42:44.982Z"
   },
   {
    "duration": 0,
    "start_time": "2024-09-11T21:42:44.983Z"
   },
   {
    "duration": 0,
    "start_time": "2024-09-11T21:42:44.984Z"
   },
   {
    "duration": 0,
    "start_time": "2024-09-11T21:42:44.986Z"
   },
   {
    "duration": 0,
    "start_time": "2024-09-11T21:42:44.987Z"
   },
   {
    "duration": 0,
    "start_time": "2024-09-11T21:42:44.988Z"
   },
   {
    "duration": 0,
    "start_time": "2024-09-11T21:42:44.989Z"
   },
   {
    "duration": 8,
    "start_time": "2024-09-11T21:42:56.488Z"
   },
   {
    "duration": 18,
    "start_time": "2024-09-11T21:44:08.830Z"
   },
   {
    "duration": 5,
    "start_time": "2024-09-11T21:44:36.091Z"
   },
   {
    "duration": 318,
    "start_time": "2024-09-11T21:44:51.377Z"
   },
   {
    "duration": 6,
    "start_time": "2024-09-11T21:45:00.911Z"
   },
   {
    "duration": 6,
    "start_time": "2024-09-11T21:46:25.185Z"
   },
   {
    "duration": 5,
    "start_time": "2024-09-11T21:47:40.363Z"
   },
   {
    "duration": 5,
    "start_time": "2024-09-11T22:03:18.043Z"
   },
   {
    "duration": 9,
    "start_time": "2024-09-11T22:03:53.054Z"
   },
   {
    "duration": 9,
    "start_time": "2024-09-11T22:03:54.135Z"
   },
   {
    "duration": 52,
    "start_time": "2024-09-11T22:04:44.742Z"
   },
   {
    "duration": 475,
    "start_time": "2024-09-11T22:19:16.818Z"
   },
   {
    "duration": 42,
    "start_time": "2024-09-11T22:19:33.476Z"
   },
   {
    "duration": 41,
    "start_time": "2024-09-11T22:20:03.248Z"
   },
   {
    "duration": 4,
    "start_time": "2024-09-11T22:21:06.674Z"
   },
   {
    "duration": 5,
    "start_time": "2024-09-11T22:21:45.364Z"
   },
   {
    "duration": 2,
    "start_time": "2024-09-11T22:22:42.248Z"
   },
   {
    "duration": 3,
    "start_time": "2024-09-11T22:22:47.981Z"
   },
   {
    "duration": 46,
    "start_time": "2024-09-11T22:23:52.881Z"
   },
   {
    "duration": 3,
    "start_time": "2024-09-11T22:38:34.351Z"
   },
   {
    "duration": 43,
    "start_time": "2024-09-11T22:39:01.544Z"
   },
   {
    "duration": 4,
    "start_time": "2024-09-11T22:39:23.831Z"
   },
   {
    "duration": 5,
    "start_time": "2024-09-11T22:39:24.721Z"
   },
   {
    "duration": 3,
    "start_time": "2024-09-11T22:39:24.966Z"
   },
   {
    "duration": 3,
    "start_time": "2024-09-11T22:39:25.192Z"
   },
   {
    "duration": 44,
    "start_time": "2024-09-11T22:39:25.615Z"
   },
   {
    "duration": 45,
    "start_time": "2024-09-11T22:39:26.756Z"
   },
   {
    "duration": 4,
    "start_time": "2024-09-11T22:42:19.352Z"
   },
   {
    "duration": 3,
    "start_time": "2024-09-11T22:42:20.269Z"
   },
   {
    "duration": 15,
    "start_time": "2024-09-11T22:42:21.302Z"
   },
   {
    "duration": 286,
    "start_time": "2024-09-11T22:48:09.080Z"
   },
   {
    "duration": 7,
    "start_time": "2024-09-11T22:48:34.416Z"
   },
   {
    "duration": 38,
    "start_time": "2024-09-11T22:49:03.529Z"
   },
   {
    "duration": 89,
    "start_time": "2024-09-11T22:49:37.404Z"
   },
   {
    "duration": 32,
    "start_time": "2024-09-11T22:50:37.804Z"
   },
   {
    "duration": 28,
    "start_time": "2024-09-11T22:50:45.026Z"
   },
   {
    "duration": 42,
    "start_time": "2024-09-11T22:52:00.090Z"
   },
   {
    "duration": 3,
    "start_time": "2024-09-11T22:53:43.733Z"
   },
   {
    "duration": 13,
    "start_time": "2024-09-11T22:53:54.880Z"
   },
   {
    "duration": 3,
    "start_time": "2024-09-11T22:55:56.660Z"
   },
   {
    "duration": 3,
    "start_time": "2024-09-11T22:55:57.276Z"
   },
   {
    "duration": 4,
    "start_time": "2024-09-11T22:56:00.314Z"
   },
   {
    "duration": 4,
    "start_time": "2024-09-11T23:25:48.516Z"
   },
   {
    "duration": 4,
    "start_time": "2024-09-11T23:26:55.684Z"
   },
   {
    "duration": 4,
    "start_time": "2024-09-11T23:27:21.453Z"
   },
   {
    "duration": 5,
    "start_time": "2024-09-11T23:27:25.902Z"
   },
   {
    "duration": 4,
    "start_time": "2024-09-11T23:40:52.442Z"
   },
   {
    "duration": 3,
    "start_time": "2024-09-11T23:42:08.000Z"
   },
   {
    "duration": 14,
    "start_time": "2024-09-11T23:46:14.089Z"
   },
   {
    "duration": 3,
    "start_time": "2024-09-11T23:47:36.528Z"
   },
   {
    "duration": 4,
    "start_time": "2024-09-11T23:48:34.684Z"
   },
   {
    "duration": 3,
    "start_time": "2024-09-11T23:49:14.199Z"
   },
   {
    "duration": 19,
    "start_time": "2024-09-11T23:52:01.550Z"
   },
   {
    "duration": 5,
    "start_time": "2024-09-11T23:53:30.749Z"
   },
   {
    "duration": 5,
    "start_time": "2024-09-11T23:55:23.926Z"
   },
   {
    "duration": 6,
    "start_time": "2024-09-12T00:00:24.406Z"
   },
   {
    "duration": 5,
    "start_time": "2024-09-12T00:02:11.602Z"
   },
   {
    "duration": 9,
    "start_time": "2024-09-12T08:03:54.596Z"
   },
   {
    "duration": 3,
    "start_time": "2024-09-12T08:04:44.467Z"
   },
   {
    "duration": 5,
    "start_time": "2024-09-12T08:05:44.045Z"
   },
   {
    "duration": 5,
    "start_time": "2024-09-12T08:07:32.062Z"
   },
   {
    "duration": 192,
    "start_time": "2024-09-13T14:31:06.001Z"
   },
   {
    "duration": 3191,
    "start_time": "2024-09-13T14:31:15.989Z"
   },
   {
    "duration": 12,
    "start_time": "2024-09-13T14:31:19.183Z"
   },
   {
    "duration": 3,
    "start_time": "2024-09-13T14:31:19.196Z"
   },
   {
    "duration": 10,
    "start_time": "2024-09-13T14:31:19.201Z"
   },
   {
    "duration": 36,
    "start_time": "2024-09-13T14:31:19.213Z"
   },
   {
    "duration": 4,
    "start_time": "2024-09-13T14:31:19.263Z"
   },
   {
    "duration": 8,
    "start_time": "2024-09-13T14:31:19.268Z"
   },
   {
    "duration": 16,
    "start_time": "2024-09-13T14:31:19.278Z"
   },
   {
    "duration": 5,
    "start_time": "2024-09-13T14:31:19.296Z"
   },
   {
    "duration": 2904,
    "start_time": "2024-09-13T14:31:19.304Z"
   },
   {
    "duration": 2,
    "start_time": "2024-09-13T14:31:22.210Z"
   },
   {
    "duration": 105,
    "start_time": "2024-09-13T14:31:22.214Z"
   },
   {
    "duration": 26,
    "start_time": "2024-09-13T14:31:22.321Z"
   },
   {
    "duration": 8,
    "start_time": "2024-09-13T14:31:22.362Z"
   },
   {
    "duration": 46,
    "start_time": "2024-09-13T14:31:22.373Z"
   },
   {
    "duration": 4,
    "start_time": "2024-09-13T14:31:22.421Z"
   },
   {
    "duration": 27,
    "start_time": "2024-09-13T14:31:22.426Z"
   },
   {
    "duration": 677,
    "start_time": "2024-09-13T14:31:22.455Z"
   },
   {
    "duration": 0,
    "start_time": "2024-09-13T14:31:23.134Z"
   },
   {
    "duration": 0,
    "start_time": "2024-09-13T14:31:23.135Z"
   },
   {
    "duration": 0,
    "start_time": "2024-09-13T14:31:23.136Z"
   },
   {
    "duration": 0,
    "start_time": "2024-09-13T14:31:23.138Z"
   },
   {
    "duration": 0,
    "start_time": "2024-09-13T14:31:23.139Z"
   },
   {
    "duration": 0,
    "start_time": "2024-09-13T14:31:23.140Z"
   },
   {
    "duration": 0,
    "start_time": "2024-09-13T14:31:23.140Z"
   },
   {
    "duration": 0,
    "start_time": "2024-09-13T14:31:23.141Z"
   },
   {
    "duration": 0,
    "start_time": "2024-09-13T14:31:23.142Z"
   },
   {
    "duration": 0,
    "start_time": "2024-09-13T14:31:23.143Z"
   },
   {
    "duration": 0,
    "start_time": "2024-09-13T14:31:23.144Z"
   },
   {
    "duration": 0,
    "start_time": "2024-09-13T14:31:23.145Z"
   },
   {
    "duration": 0,
    "start_time": "2024-09-13T14:31:23.146Z"
   },
   {
    "duration": 0,
    "start_time": "2024-09-13T14:31:23.147Z"
   },
   {
    "duration": 0,
    "start_time": "2024-09-13T14:31:23.148Z"
   },
   {
    "duration": 0,
    "start_time": "2024-09-13T14:31:23.149Z"
   },
   {
    "duration": 0,
    "start_time": "2024-09-13T14:31:23.150Z"
   },
   {
    "duration": 0,
    "start_time": "2024-09-13T14:31:23.151Z"
   },
   {
    "duration": 14,
    "start_time": "2024-09-13T14:31:55.631Z"
   },
   {
    "duration": 6,
    "start_time": "2024-09-13T14:33:20.772Z"
   },
   {
    "duration": 7,
    "start_time": "2024-09-13T14:33:58.799Z"
   },
   {
    "duration": 4,
    "start_time": "2024-09-13T14:34:06.791Z"
   },
   {
    "duration": 3,
    "start_time": "2024-09-13T14:34:28.016Z"
   },
   {
    "duration": 17,
    "start_time": "2024-09-13T14:34:46.852Z"
   },
   {
    "duration": 51,
    "start_time": "2024-09-13T14:35:08.913Z"
   },
   {
    "duration": 553,
    "start_time": "2024-09-13T14:35:23.813Z"
   },
   {
    "duration": 128,
    "start_time": "2024-09-13T14:36:15.892Z"
   },
   {
    "duration": 3,
    "start_time": "2024-09-13T14:36:41.496Z"
   },
   {
    "duration": 2,
    "start_time": "2024-09-13T14:36:41.825Z"
   },
   {
    "duration": 67,
    "start_time": "2024-09-13T14:36:42.107Z"
   },
   {
    "duration": 21,
    "start_time": "2024-09-13T14:53:04.048Z"
   },
   {
    "duration": 6,
    "start_time": "2024-09-13T14:53:17.470Z"
   },
   {
    "duration": 7,
    "start_time": "2024-09-13T14:53:17.848Z"
   },
   {
    "duration": 7,
    "start_time": "2024-09-13T14:53:18.173Z"
   },
   {
    "duration": 10,
    "start_time": "2024-09-13T14:53:19.190Z"
   },
   {
    "duration": 36,
    "start_time": "2024-09-13T14:54:41.125Z"
   },
   {
    "duration": 15,
    "start_time": "2024-09-13T14:54:52.192Z"
   },
   {
    "duration": 1107,
    "start_time": "2024-09-13T15:20:58.507Z"
   },
   {
    "duration": 8,
    "start_time": "2024-09-13T15:20:59.616Z"
   },
   {
    "duration": 3,
    "start_time": "2024-09-13T15:20:59.625Z"
   },
   {
    "duration": 14,
    "start_time": "2024-09-13T15:20:59.635Z"
   },
   {
    "duration": 12,
    "start_time": "2024-09-13T15:20:59.651Z"
   },
   {
    "duration": 3,
    "start_time": "2024-09-13T15:20:59.666Z"
   },
   {
    "duration": 11,
    "start_time": "2024-09-13T15:20:59.671Z"
   },
   {
    "duration": 54,
    "start_time": "2024-09-13T15:20:59.684Z"
   },
   {
    "duration": 10,
    "start_time": "2024-09-13T15:20:59.744Z"
   },
   {
    "duration": 2937,
    "start_time": "2024-09-13T15:20:59.759Z"
   },
   {
    "duration": 3,
    "start_time": "2024-09-13T15:21:02.698Z"
   },
   {
    "duration": 4,
    "start_time": "2024-09-13T15:21:02.703Z"
   },
   {
    "duration": 8,
    "start_time": "2024-09-13T15:21:02.709Z"
   },
   {
    "duration": 9,
    "start_time": "2024-09-13T15:21:02.718Z"
   },
   {
    "duration": 65,
    "start_time": "2024-09-13T15:21:02.728Z"
   },
   {
    "duration": 4,
    "start_time": "2024-09-13T15:21:02.795Z"
   },
   {
    "duration": 4,
    "start_time": "2024-09-13T15:21:02.801Z"
   },
   {
    "duration": 4,
    "start_time": "2024-09-13T15:21:02.807Z"
   },
   {
    "duration": 25,
    "start_time": "2024-09-13T15:21:02.813Z"
   },
   {
    "duration": 576,
    "start_time": "2024-09-13T15:21:02.841Z"
   },
   {
    "duration": 147,
    "start_time": "2024-09-13T15:21:03.420Z"
   },
   {
    "duration": 4,
    "start_time": "2024-09-13T15:21:03.570Z"
   },
   {
    "duration": 3,
    "start_time": "2024-09-13T15:21:03.575Z"
   },
   {
    "duration": 74,
    "start_time": "2024-09-13T15:21:03.580Z"
   },
   {
    "duration": 4,
    "start_time": "2024-09-13T15:21:03.658Z"
   },
   {
    "duration": 3,
    "start_time": "2024-09-13T15:21:03.667Z"
   },
   {
    "duration": 8,
    "start_time": "2024-09-13T15:21:03.671Z"
   },
   {
    "duration": 10,
    "start_time": "2024-09-13T15:21:03.683Z"
   },
   {
    "duration": 45,
    "start_time": "2024-09-13T15:21:03.695Z"
   },
   {
    "duration": 4,
    "start_time": "2024-09-13T15:21:03.747Z"
   },
   {
    "duration": 5,
    "start_time": "2024-09-13T15:21:03.753Z"
   },
   {
    "duration": 8,
    "start_time": "2024-09-13T15:21:03.760Z"
   },
   {
    "duration": 9,
    "start_time": "2024-09-13T15:21:03.770Z"
   },
   {
    "duration": 58,
    "start_time": "2024-09-13T15:21:03.781Z"
   },
   {
    "duration": 4,
    "start_time": "2024-09-13T15:21:03.842Z"
   },
   {
    "duration": 6,
    "start_time": "2024-09-13T15:21:03.848Z"
   },
   {
    "duration": 404,
    "start_time": "2024-09-13T15:21:03.861Z"
   },
   {
    "duration": 0,
    "start_time": "2024-09-13T15:21:04.266Z"
   },
   {
    "duration": 4,
    "start_time": "2024-09-13T15:21:35.724Z"
   },
   {
    "duration": 10,
    "start_time": "2024-09-13T15:30:27.488Z"
   },
   {
    "duration": 9,
    "start_time": "2024-09-13T15:30:30.556Z"
   },
   {
    "duration": 2772,
    "start_time": "2024-09-13T19:36:12.898Z"
   },
   {
    "duration": 12,
    "start_time": "2024-09-13T19:36:15.673Z"
   },
   {
    "duration": 3,
    "start_time": "2024-09-13T19:36:15.687Z"
   },
   {
    "duration": 10,
    "start_time": "2024-09-13T19:36:15.693Z"
   },
   {
    "duration": 9,
    "start_time": "2024-09-13T19:36:15.704Z"
   },
   {
    "duration": 3,
    "start_time": "2024-09-13T19:36:15.714Z"
   },
   {
    "duration": 8,
    "start_time": "2024-09-13T19:36:15.719Z"
   },
   {
    "duration": 15,
    "start_time": "2024-09-13T19:36:15.729Z"
   },
   {
    "duration": 42,
    "start_time": "2024-09-13T19:36:15.746Z"
   },
   {
    "duration": 2560,
    "start_time": "2024-09-13T19:36:15.791Z"
   },
   {
    "duration": 3,
    "start_time": "2024-09-13T19:36:18.353Z"
   },
   {
    "duration": 5,
    "start_time": "2024-09-13T19:36:18.358Z"
   },
   {
    "duration": 9,
    "start_time": "2024-09-13T19:36:18.364Z"
   },
   {
    "duration": 7,
    "start_time": "2024-09-13T19:36:18.375Z"
   },
   {
    "duration": 45,
    "start_time": "2024-09-13T19:36:18.384Z"
   },
   {
    "duration": 4,
    "start_time": "2024-09-13T19:36:18.431Z"
   },
   {
    "duration": 6,
    "start_time": "2024-09-13T19:36:18.436Z"
   },
   {
    "duration": 5,
    "start_time": "2024-09-13T19:36:18.443Z"
   },
   {
    "duration": 6,
    "start_time": "2024-09-13T19:36:18.449Z"
   },
   {
    "duration": 500,
    "start_time": "2024-09-13T19:36:18.456Z"
   },
   {
    "duration": 130,
    "start_time": "2024-09-13T19:36:18.958Z"
   },
   {
    "duration": 3,
    "start_time": "2024-09-13T19:36:19.090Z"
   },
   {
    "duration": 2,
    "start_time": "2024-09-13T19:36:19.095Z"
   },
   {
    "duration": 48,
    "start_time": "2024-09-13T19:36:19.099Z"
   },
   {
    "duration": 4,
    "start_time": "2024-09-13T19:36:19.149Z"
   },
   {
    "duration": 4,
    "start_time": "2024-09-13T19:36:19.155Z"
   },
   {
    "duration": 8,
    "start_time": "2024-09-13T19:36:19.187Z"
   },
   {
    "duration": 17,
    "start_time": "2024-09-13T19:36:19.199Z"
   },
   {
    "duration": 67,
    "start_time": "2024-09-13T19:36:19.219Z"
   },
   {
    "duration": 8,
    "start_time": "2024-09-13T19:36:19.289Z"
   },
   {
    "duration": 4,
    "start_time": "2024-09-13T19:36:19.298Z"
   },
   {
    "duration": 10,
    "start_time": "2024-09-13T19:36:19.303Z"
   },
   {
    "duration": 3,
    "start_time": "2024-09-13T19:36:19.315Z"
   },
   {
    "duration": 71,
    "start_time": "2024-09-13T19:36:19.319Z"
   },
   {
    "duration": 6,
    "start_time": "2024-09-13T19:36:19.392Z"
   },
   {
    "duration": 6,
    "start_time": "2024-09-13T19:36:19.401Z"
   },
   {
    "duration": 92,
    "start_time": "2024-09-13T19:36:19.409Z"
   },
   {
    "duration": 89,
    "start_time": "2024-09-13T19:36:19.505Z"
   },
   {
    "duration": 7,
    "start_time": "2024-09-13T21:46:19.765Z"
   }
  ],
  "kernelspec": {
   "display_name": "Python 3 (ipykernel)",
   "language": "python",
   "name": "python3"
  },
  "language_info": {
   "codemirror_mode": {
    "name": "ipython",
    "version": 3
   },
   "file_extension": ".py",
   "mimetype": "text/x-python",
   "name": "python",
   "nbconvert_exporter": "python",
   "pygments_lexer": "ipython3",
   "version": "3.9.19"
  },
  "toc": {
   "base_numbering": 1,
   "nav_menu": {},
   "number_sections": true,
   "sideBar": true,
   "skip_h1_title": true,
   "title_cell": "Table of Contents",
   "title_sidebar": "Contents",
   "toc_cell": false,
   "toc_position": {},
   "toc_section_display": true,
   "toc_window_display": false
  }
 },
 "nbformat": 4,
 "nbformat_minor": 4
}
